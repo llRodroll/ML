{
  "nbformat": 4,
  "nbformat_minor": 0,
  "metadata": {
    "colab": {
      "name": "GD ML 1.ipynb",
      "provenance": [],
      "authorship_tag": "ABX9TyPIjWs4ygzHHtlSCuXStYZd",
      "include_colab_link": true
    },
    "kernelspec": {
      "name": "python3",
      "display_name": "Python 3"
    },
    "language_info": {
      "name": "python"
    }
  },
  "cells": [
    {
      "cell_type": "markdown",
      "metadata": {
        "id": "view-in-github",
        "colab_type": "text"
      },
      "source": [
        "<a href=\"https://colab.research.google.com/github/llRodroll/ML/blob/main/Basic/GD_ML_1.ipynb\" target=\"_parent\"><img src=\"https://colab.research.google.com/assets/colab-badge.svg\" alt=\"Open In Colab\"/></a>"
      ]
    },
    {
      "cell_type": "markdown",
      "metadata": {
        "id": "Z5ZhYlm5dSKd"
      },
      "source": [
        "# Problem\n",
        "\n",
        "We have the folliwing data:\n",
        "\n",
        "| $i$ || $x$ || $y$ | \n",
        "|-----||-----||-----|\n",
        "|  1  || -1  || -2  |\n",
        "|  2  || 0   || 1   |\n",
        "|  3  || 1   || 4   |\n",
        "|  4  || 2   || 7   |\n",
        "|  5  || 3   || 10  |\n",
        "|  6  || 4   || 13  |\n",
        "\n",
        "We know that this data fits $y = 3x+1$, but we want to find out how a ML could get an aproximate answer."
      ]
    },
    {
      "cell_type": "markdown",
      "metadata": {
        "id": "OrWaCmuac6u_"
      },
      "source": [
        "# Libraries"
      ]
    },
    {
      "cell_type": "code",
      "metadata": {
        "id": "RUufOurWa8D3"
      },
      "source": [
        "import tensorflow as tf       # tensorflow library\n",
        "import numpy as np            # numpy\n",
        "from tensorflow import keras  # framework to define a NN as a sequence of layer"
      ],
      "execution_count": null,
      "outputs": []
    },
    {
      "cell_type": "markdown",
      "metadata": {
        "id": "gySwGF_8c_qq"
      },
      "source": [
        "# Set up\n",
        "\n",
        "Here, we are going to use the simplest NN architecture. It has one layer, that layer has one neuron, and the input shape to it is only one value."
      ]
    },
    {
      "cell_type": "code",
      "metadata": {
        "id": "tKI2-piwcpCA"
      },
      "source": [
        "model = tf.keras.Sequential([keras.layers.Dense(units=1, input_shape=[1])])"
      ],
      "execution_count": null,
      "outputs": []
    },
    {
      "cell_type": "markdown",
      "metadata": {
        "id": "kNvGmlJgg-Yn"
      },
      "source": [
        "Now, we need to \"run\" or \"compile\" the code. Meaning that we need to tell the program to optimize this NN.\n",
        "\n",
        "Hence, we have to choose a optimization method, i.e. the way the program will find an answer. And we also have to choose the *loss function*, that is how the program or model will know when to stop because the results are adequate."
      ]
    },
    {
      "cell_type": "code",
      "metadata": {
        "id": "vnSTVwlGh7IP"
      },
      "source": [
        "model.compile(optimizer='sgd', loss='mean_squared_error')"
      ],
      "execution_count": null,
      "outputs": []
    },
    {
      "cell_type": "markdown",
      "metadata": {
        "id": "rCmK4kCsiHZl"
      },
      "source": [
        "# Enter or provide the data\n",
        "\n",
        "For this example we can type the data directly and use **numpy** to work with vectors and matrices"
      ]
    },
    {
      "cell_type": "code",
      "metadata": {
        "id": "3bJtFZrhiX_j"
      },
      "source": [
        "xs = np.array([-1.0, 0.0, 1.0, 2.0, 3.0, 4.0], dtype=float)\n",
        "ys = np.array([-2.0, 1.0, 4.0, 7.0, 10.0, 13.0], dtype=float)"
      ],
      "execution_count": null,
      "outputs": []
    },
    {
      "cell_type": "markdown",
      "metadata": {
        "id": "rHcTRJftirnA"
      },
      "source": [
        "# Traing the NN\n",
        "\n",
        "There are several ways to do this. But this specific example we are going to tell the program to iterate a specified number of items until it reaches the desire result.\n",
        "\n",
        "In this case that number is 500 and it is called *epochs*."
      ]
    },
    {
      "cell_type": "code",
      "metadata": {
        "id": "xrM79PG4jJeV"
      },
      "source": [
        "model.fit(xs, ys, epochs=500)"
      ],
      "execution_count": null,
      "outputs": []
    },
    {
      "cell_type": "markdown",
      "metadata": {
        "id": "5DvkF9r2jjyp"
      },
      "source": [
        "As you can see, the loss value with each *epoch* is decreasing, meaning that the program is improving its fitness of the data."
      ]
    },
    {
      "cell_type": "markdown",
      "metadata": {
        "id": "a3Zu8iVnj3ef"
      },
      "source": [
        "# Use the model\n",
        "\n",
        "Now we have an estimation of the model or the NN. The next step is to use it to predict new values.\n",
        "\n",
        "For example, let's say that you want to know what would be the value of $y$ if $x=15$. For that:"
      ]
    },
    {
      "cell_type": "code",
      "metadata": {
        "colab": {
          "base_uri": "https://localhost:8080/"
        },
        "id": "HkNtxEk8kSLL",
        "outputId": "74bdcc17-6dd1-4cfe-8050-71e451f56dff"
      },
      "source": [
        "print(model.predict([15.0]))"
      ],
      "execution_count": null,
      "outputs": [
        {
          "output_type": "stream",
          "text": [
            "[[46.010944]]\n"
          ],
          "name": "stdout"
        }
      ]
    },
    {
      "cell_type": "markdown",
      "metadata": {
        "id": "V_6NV5iHkYwD"
      },
      "source": [
        "As you can see the result is pretty close to the real value $46$.\n",
        "\n",
        "This is important because, as in classic statistics, here we are dealing with probabilities and estimation errors. Henceforth, you are always going to have an uncertainty about your estimation vs the real value."
      ]
    }
  ]
}