{
  "nbformat": 4,
  "nbformat_minor": 0,
  "metadata": {
    "colab": {
      "name": "TF_Lab_2_Comp_Vis.ipynb",
      "provenance": [],
      "authorship_tag": "ABX9TyPaTjlQWe9TrR1V8Kv1MJIT",
      "include_colab_link": true
    },
    "kernelspec": {
      "name": "python3",
      "display_name": "Python 3"
    },
    "language_info": {
      "name": "python"
    }
  },
  "cells": [
    {
      "cell_type": "markdown",
      "metadata": {
        "id": "view-in-github",
        "colab_type": "text"
      },
      "source": [
        "<a href=\"https://colab.research.google.com/github/llRodroll/ML/blob/main/TF/TF_Lab_2_Comp_Vis.ipynb\" target=\"_parent\"><img src=\"https://colab.research.google.com/assets/colab-badge.svg\" alt=\"Open In Colab\"/></a>"
      ]
    },
    {
      "cell_type": "markdown",
      "metadata": {
        "id": "8JhBDYZUdgty"
      },
      "source": [
        "# Computer Vision\n",
        "\n",
        "A NN to recognize cloth items from a 70,000 data poitns in the dataset Fashion MNIST. Each image falls in either of 10 categories."
      ]
    },
    {
      "cell_type": "markdown",
      "metadata": {
        "id": "cHgEDVdDeZKk"
      },
      "source": [
        "## Libraries"
      ]
    },
    {
      "cell_type": "code",
      "metadata": {
        "id": "7qoieY83ccSm"
      },
      "source": [
        "import tensorflow as tf          \n",
        "import matplotlib.pyplot as plt  # graphics"
      ],
      "execution_count": 1,
      "outputs": []
    },
    {
      "cell_type": "markdown",
      "metadata": {
        "id": "ZRGuakgRenou"
      },
      "source": [
        "## Import Dataset"
      ]
    },
    {
      "cell_type": "code",
      "metadata": {
        "colab": {
          "base_uri": "https://localhost:8080/"
        },
        "id": "fV23myhVeyVk",
        "outputId": "413f00e1-65bd-4bf7-b90e-f39a26edc220"
      },
      "source": [
        "mnist = tf.keras.datasets.fashion_mnist\n",
        "(training_images, training_labels), (test_images, test_labels) = mnist.load_data()"
      ],
      "execution_count": 2,
      "outputs": [
        {
          "output_type": "stream",
          "text": [
            "Downloading data from https://storage.googleapis.com/tensorflow/tf-keras-datasets/train-labels-idx1-ubyte.gz\n",
            "32768/29515 [=================================] - 0s 0us/step\n",
            "Downloading data from https://storage.googleapis.com/tensorflow/tf-keras-datasets/train-images-idx3-ubyte.gz\n",
            "26427392/26421880 [==============================] - 0s 0us/step\n",
            "Downloading data from https://storage.googleapis.com/tensorflow/tf-keras-datasets/t10k-labels-idx1-ubyte.gz\n",
            "8192/5148 [===============================================] - 0s 0us/step\n",
            "Downloading data from https://storage.googleapis.com/tensorflow/tf-keras-datasets/t10k-images-idx3-ubyte.gz\n",
            "4423680/4422102 [==============================] - 0s 0us/step\n"
          ],
          "name": "stdout"
        }
      ]
    },
    {
      "cell_type": "markdown",
      "metadata": {
        "id": "t2cDVgHseu2M"
      },
      "source": [
        "## Data Visualization\n",
        "\n",
        "The values representing the data are integers between 0 and 255.\n",
        "\n",
        "The image is in a 28x28 grid of greyscale colors. Nevetherless, the images in the output do not appear that way."
      ]
    },
    {
      "cell_type": "code",
      "metadata": {
        "id": "sLSYccHufH9U"
      },
      "source": [
        "plt.imshow(training_images[0])\n",
        "print(training_labels[0])\n",
        "print(training_images[0])"
      ],
      "execution_count": null,
      "outputs": []
    },
    {
      "cell_type": "markdown",
      "metadata": {
        "id": "FMAlEO85fn8s"
      },
      "source": [
        "To better manage the process iti is convinient to normalize the data between 0 and 1."
      ]
    },
    {
      "cell_type": "code",
      "metadata": {
        "id": "1CqvD512fx6e"
      },
      "source": [
        "training_images  = training_images / 255.0\n",
        "test_images = test_images / 255.0"
      ],
      "execution_count": 5,
      "outputs": []
    },
    {
      "cell_type": "markdown",
      "metadata": {
        "id": "Ptm7al6rgG3k"
      },
      "source": [
        "## Model Design\n",
        "\n",
        "For now the model have 3 layers:"
      ]
    },
    {
      "cell_type": "code",
      "metadata": {
        "id": "60P1JFAzgrqI"
      },
      "source": [
        "model = tf.keras.models.Sequential([tf.keras.layers.Flatten(), \n",
        "                                    tf.keras.layers.Dense(128, activation=tf.nn.relu), \n",
        "                                    tf.keras.layers.Dense(10, activation=tf.nn.softmax)])"
      ],
      "execution_count": 7,
      "outputs": []
    },
    {
      "cell_type": "markdown",
      "metadata": {
        "id": "9WxUoUJggrB7"
      },
      "source": [
        "**Sequential**: defines the NN layers and its features.\n",
        "\n",
        "**Faltten**: takes de 28x28 input (image) and turns it into a one-dimensional vector of $28\\times28=784$ elements.\n",
        "\n",
        "**Dense**: these are layers to procces the information. The first one has 128 nodes (neurons) and the second has 10 nodes (the number of label categories).\n",
        "\n",
        "**Activation**: this tells the NN neurons what to do. In this case, we have two types. Relu is a function with 0 valuer for negative values and Softmax simply identfies the maximum value of a vector with the number 1 in that position and the rest is zero."
      ]
    },
    {
      "cell_type": "markdown",
      "metadata": {
        "id": "P97CgJ9vi3f0"
      },
      "source": [
        "## Compile the model\n",
        "\n",
        "As in previous labs, here we compile the model and choose some options.\n",
        "\n",
        "**Adam** is an option to avoid saddle points in the optimization process.\n",
        "\n",
        "**Loss** is the function to optimize. In this case we want to minimize our losses with the crossentropy.\n",
        "\n",
        "**Metrics** is the metric that the training process will show. In this case is accuracy, i.e. the percentage of images correctly predicted."
      ]
    },
    {
      "cell_type": "code",
      "metadata": {
        "id": "c_z_l0qSi7WY"
      },
      "source": [
        "model.compile(optimizer = tf.keras.optimizers.Adam(),\n",
        "              loss = 'sparse_categorical_crossentropy',\n",
        "              metrics=['accuracy'])"
      ],
      "execution_count": 8,
      "outputs": []
    },
    {
      "cell_type": "markdown",
      "metadata": {
        "id": "iyc4LVtlkBo_"
      },
      "source": [
        "## Train the model\n",
        "\n",
        "Remember that *epochs* is the number of iterations (tries) for the fit process. In this case only 5, a very low number.\n",
        "\n",
        "Just to keep in mind: The *batch* size is a number of samples processed before the model is updated. The number of *epochs* is the number of complete passes through the training dataset. In this example we do not use batch explicity."
      ]
    },
    {
      "cell_type": "code",
      "metadata": {
        "colab": {
          "base_uri": "https://localhost:8080/"
        },
        "id": "Aau5cjvwkFHf",
        "outputId": "53f083eb-cf3c-4d24-dc9d-1bb5ad751c0a"
      },
      "source": [
        "model.fit(training_images, training_labels, epochs=5)"
      ],
      "execution_count": 9,
      "outputs": [
        {
          "output_type": "stream",
          "text": [
            "Epoch 1/5\n",
            "1875/1875 [==============================] - 6s 3ms/step - loss: 0.5005 - accuracy: 0.8230\n",
            "Epoch 2/5\n",
            "1875/1875 [==============================] - 5s 3ms/step - loss: 0.3747 - accuracy: 0.8658\n",
            "Epoch 3/5\n",
            "1875/1875 [==============================] - 5s 3ms/step - loss: 0.3363 - accuracy: 0.8773\n",
            "Epoch 4/5\n",
            "1875/1875 [==============================] - 5s 2ms/step - loss: 0.3094 - accuracy: 0.8856\n",
            "Epoch 5/5\n",
            "1875/1875 [==============================] - 4s 2ms/step - loss: 0.2926 - accuracy: 0.8901\n"
          ],
          "name": "stdout"
        },
        {
          "output_type": "execute_result",
          "data": {
            "text/plain": [
              "<tensorflow.python.keras.callbacks.History at 0x7fa01f244b90>"
            ]
          },
          "metadata": {
            "tags": []
          },
          "execution_count": 9
        }
      ]
    },
    {
      "cell_type": "markdown",
      "metadata": {
        "id": "1QqcPweTkEnA"
      },
      "source": [
        "The result tell us that after 5 epochs the accuracy of the model is 89%, meaning that it classified 89% of the training set correctly."
      ]
    },
    {
      "cell_type": "markdown",
      "metadata": {
        "id": "4czpnZ7fndY-"
      },
      "source": [
        "## Test the model\n",
        "\n",
        "Now we feed the test dataset to check how well the NN predicts data that has not seen."
      ]
    },
    {
      "cell_type": "code",
      "metadata": {
        "colab": {
          "base_uri": "https://localhost:8080/"
        },
        "id": "KR0TPoKDnmkA",
        "outputId": "7639fae3-1ee6-48c6-dc75-dac6b8becef3"
      },
      "source": [
        "model.evaluate(test_images, test_labels)"
      ],
      "execution_count": 10,
      "outputs": [
        {
          "output_type": "stream",
          "text": [
            "313/313 [==============================] - 1s 2ms/step - loss: 0.3565 - accuracy: 0.8732\n"
          ],
          "name": "stdout"
        },
        {
          "output_type": "execute_result",
          "data": {
            "text/plain": [
              "[0.3565315008163452, 0.873199999332428]"
            ]
          },
          "metadata": {
            "tags": []
          },
          "execution_count": 10
        }
      ]
    },
    {
      "cell_type": "markdown",
      "metadata": {
        "id": "QP5ZVz7roBnO"
      },
      "source": [
        "In this case, the NN classified correctly 87% of the images. Not great, and by far not the best accuracy, but this is a very small example with a \"basic\" NN model.\n",
        "\n",
        "Finally, in the training section you can include *callbacks* (a user define function) in model.fit to stop the training process when you reach the desire metric. For example, if your goal is 95% of accuracy and you have 1,000 epochs, you can set the training the process to stop once it reaches 95%, even if the 1,000 epochs have not finished."
      ]
    }
  ]
}